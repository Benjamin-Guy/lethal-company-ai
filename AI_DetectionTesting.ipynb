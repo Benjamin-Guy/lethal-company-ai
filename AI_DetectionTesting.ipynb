{
 "cells": [
  {
   "cell_type": "code",
   "execution_count": 1,
   "metadata": {},
   "outputs": [],
   "source": [
    "import math\n",
    "import time\n",
    "import os\n",
    "import cv2 \n",
    "import keyboard\n",
    "import pickle\n",
    "import numpy as np\n",
    "from PIL import Image, ImageOps, ImageGrab\n",
    "from matplotlib import pyplot as plt\n",
    "from skimage import io, color, measure, morphology\n",
    "from scipy import ndimage\n",
    "from scipy.ndimage import rotate\n",
    "import copy\n",
    "%matplotlib inline"
   ]
  },
  {
   "cell_type": "markdown",
   "metadata": {},
   "source": [
    "# Item detection\n",
    "Scrap items appear to all appear at roughly the same shape, size, and colour. This suggests template matching as a solution. However, upon examining the training images, it was noted that each scrap item had the exact same colour albeit for a small difference observed in one case. This suggests that precise colour thresholding will be very effective at isolating the scrap items from the rest of the image. The steps for the item detection are as follows:\n",
    "\n",
    "- RGB colour threeshold applied to the image to identify scrap items.\n",
    "- Dilate segments of scrap items. This helps prevent map elements that sometimes break up the appearance of scrap as appearing as more than one scrap item when it is only one."
   ]
  },
  {
   "cell_type": "code",
   "execution_count": 14,
   "metadata": {},
   "outputs": [],
   "source": [
    "image = cv2.imread(r'training\\3.png')\n",
    "\n",
    "# Colour threshold for scrap items\n",
    "scrap_lower_bound = (1, 254, 172)\n",
    "scrap_upper_bound = (2, 255, 177)\n",
    "\n",
    "# Colour threshold the image\n",
    "color_mask = cv2.inRange(image, scrap_lower_bound, scrap_upper_bound)\n",
    "\n",
    "# Dilate segments\n",
    "kernel_size = (5, 5)\n",
    "kernel = np.ones(kernel_size, np.uint8)\n",
    "dilated_mask = cv2.dilate(color_mask, kernel, iterations=3)\n",
    "\n",
    "cv2.imshow('Original Image', image)\n",
    "cv2.imshow('Binary Mask', dilated_mask)\n",
    "\n",
    "cv2.waitKey(0)\n",
    "cv2.destroyAllWindows()"
   ]
  },
  {
   "cell_type": "markdown",
   "metadata": {},
   "source": [
    "# Enemy detection\n",
    "Similar to scrap items, enemies all have the same shape and colour, but have differences in size. There are also issues with other objects appearing the same colour as the enemies on the monitor. This necessitates a requirement for circular hough transforms to identify enemies as opposed to locked doors or vents on the monitor. The following steps will be taken to identify enemies:\n",
    "\n",
    "- RGB colour threshold applied to the image to filter out noise and any objects not red.\n",
    "- Circular hough transform to identify circular segments."
   ]
  }
 ],
 "metadata": {
  "kernelspec": {
   "display_name": "Python 3",
   "language": "python",
   "name": "python3"
  },
  "language_info": {
   "codemirror_mode": {
    "name": "ipython",
    "version": 3
   },
   "file_extension": ".py",
   "mimetype": "text/x-python",
   "name": "python",
   "nbconvert_exporter": "python",
   "pygments_lexer": "ipython3",
   "version": "3.11.8"
  }
 },
 "nbformat": 4,
 "nbformat_minor": 2
}
